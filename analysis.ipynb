{
 "cells": [
  {
   "cell_type": "code",
   "execution_count": 1,
   "metadata": {},
   "outputs": [],
   "source": [
    "import src.explainers as exp\n",
    "import matplotlib.pyplot as plt"
   ]
  },
  {
   "cell_type": "code",
   "execution_count": 142,
   "metadata": {},
   "outputs": [
    {
     "data": {
      "text/plain": [
       "<module 'src.explainers' from '/home/mikesmac/Documents/GraphSVX/src/explainers.py'>"
      ]
     },
     "execution_count": 142,
     "metadata": {},
     "output_type": "execute_result"
    }
   ],
   "source": [
    "import importlib\n",
    "importlib.reload(exp)"
   ]
  },
  {
   "cell_type": "code",
   "execution_count": 59,
   "metadata": {},
   "outputs": [],
   "source": [
    "import torch\n",
    "import torch.nn as nn\n",
    "import torch.nn.functional as F\n",
    "from torch_geometric.nn import GCNConv, RGCNConv\n",
    "from torch_geometric.datasets import Planetoid, Entities\n",
    "from torch_geometric.data import Data\n",
    "\n",
    "#dataset = Planetoid(root='/tmp/Cora', name='Cora')\n",
    "dataset = Entities(root='/tmp/AIFB', name='AIFB')\n",
    "torch.manual_seed(1)\n",
    "torch.cuda.manual_seed(1)"
   ]
  },
  {
   "cell_type": "code",
   "execution_count": 15,
   "metadata": {},
   "outputs": [],
   "source": [
    "data = dataset[0]"
   ]
  },
  {
   "cell_type": "code",
   "execution_count": 16,
   "metadata": {},
   "outputs": [],
   "source": [
    "data.x = torch.rand( (len(torch.unique(data.edge_index)), 10))\n",
    "data.y = torch.rand( (len(torch.unique(data.edge_index)), 1))"
   ]
  },
  {
   "cell_type": "code",
   "execution_count": 65,
   "metadata": {},
   "outputs": [
    {
     "data": {
      "text/plain": [
       "Data(edge_attr=[58086, 10], edge_index=[2, 58086], edge_type=[58086], test_idx=[36], test_y=[36], train_idx=[140], train_y=[140], x=[8285, 10], y=[8285, 1])"
      ]
     },
     "execution_count": 65,
     "metadata": {},
     "output_type": "execute_result"
    }
   ],
   "source": [
    "data"
   ]
  },
  {
   "cell_type": "code",
   "execution_count": 64,
   "metadata": {},
   "outputs": [],
   "source": [
    "data.edge_attr = torch.rand((58086, 10))"
   ]
  },
  {
   "cell_type": "code",
   "execution_count": 40,
   "metadata": {},
   "outputs": [
    {
     "data": {
      "text/plain": [
       "tensor([ 0,  1,  2,  3,  4,  5,  6,  7,  8,  9, 10, 11, 12, 13, 14, 15, 16, 17,\n",
       "        18, 19, 20, 21, 22, 23, 24, 25, 26, 27, 28, 29, 30, 31, 32, 33, 34, 35,\n",
       "        36, 37, 38, 39, 40, 41, 42, 43, 44, 45, 46, 47, 48, 49, 50, 51, 52, 53,\n",
       "        54, 55, 56, 57, 58, 59, 60, 61, 62, 63, 64, 65, 66, 67, 68, 69, 70, 71,\n",
       "        72, 73, 74, 75, 76, 77, 78, 79, 80, 81, 82, 83, 84, 85, 86, 87, 88, 89])"
      ]
     },
     "execution_count": 40,
     "metadata": {},
     "output_type": "execute_result"
    }
   ],
   "source": [
    "torch.unique(data.edge_type)"
   ]
  },
  {
   "cell_type": "markdown",
   "metadata": {},
   "source": []
  },
  {
   "cell_type": "code",
   "execution_count": 8,
   "metadata": {},
   "outputs": [],
   "source": [
    "class MRGCN(torch.nn.Module):\n",
    "    def __init__(self, in_channels, hidden_channels, out_channels, num_relations, conv_layers):\n",
    "        super(MRGCN,self).__init__()\n",
    "        self.act = nn.GELU()\n",
    "        self.conv_layers = conv_layers\n",
    "\n",
    "        self.layers = nn.ModuleList()\n",
    "        self.norm = nn.LayerNorm(hidden_channels)\n",
    "\n",
    "        conv = RGCNConv(in_channels, hidden_channels, num_relations)\n",
    "        self.layers.append(conv)\n",
    "        self.layers.append(self.norm)\n",
    "        self.layers.append(self.act)\n",
    "\n",
    "        for i in range(1, conv_layers+1):\n",
    "            conv = RGCNConv(hidden_channels, hidden_channels, num_relations)\n",
    "            self.layers.append(conv)\n",
    "            self.layers.append(self.norm)\n",
    "            self.layers.append(self.act)\n",
    "\n",
    "        self.bn1 = nn.LayerNorm(hidden_channels)\n",
    "        self.linear1 = nn.Linear(hidden_channels, hidden_channels)\n",
    "        self.bn2 = nn.LayerNorm(hidden_channels)\n",
    "        self.linear2 = nn.Linear(hidden_channels, out_channels)\n",
    "    def forward(self, data):\n",
    "        x, edge_index, edge_type = data.x, data.edge_index, data.edge_type\n",
    "        for i in range(self.conv_layers):\n",
    "            x = self.layers[i*3](x, edge_index, edge_type)\n",
    "            x = self.layers[(i*3+1)](x)\n",
    "            x = self.layers[(i*3+2)](x)\n",
    "        x = self.act(self.bn1(self.linear1(x))) \n",
    "        x = self.linear2(x)\n",
    "        return x\n",
    "        "
   ]
  },
  {
   "cell_type": "code",
   "execution_count": 9,
   "metadata": {},
   "outputs": [],
   "source": [
    "class GCN(torch.nn.Module):\n",
    "    def __init__(self):\n",
    "        super().__init__()\n",
    "        self.conv1 = GCNConv(64, 16)\n",
    "        self.conv2 = GCNConv(16, 1)\n",
    "\n",
    "    def forward(self, data):\n",
    "        x, edge_index = data.x, data.edge_index\n",
    "        \n",
    "        x = self.conv1(x, edge_index)\n",
    "        x = F.relu(x)\n",
    "        x = F.dropout(x, training=self.training)\n",
    "        x = self.conv2(x, edge_index)\n",
    "\n",
    "        return x"
   ]
  },
  {
   "cell_type": "code",
   "execution_count": 66,
   "metadata": {},
   "outputs": [
    {
     "name": "stdout",
     "output_type": "stream",
     "text": [
      "0\n"
     ]
    }
   ],
   "source": [
    "device = torch.device('cuda' if torch.cuda.is_available() else 'cpu')\n",
    "model = MRGCN(10, 10, 1, 90, 2).to(device)\n",
    "optimizer = torch.optim.Adam(model.parameters(), lr=0.01, weight_decay=5e-4)\n",
    "data = data.to(device)\n",
    "model.train()\n",
    "for epoch in range(10):\n",
    "    if epoch % 10 == 0:\n",
    "        print(epoch)\n",
    "    optimizer.zero_grad()\n",
    "    out = model(data)\n",
    "    loss = F.mse_loss(out, data.y)\n",
    "    loss.backward()\n",
    "    optimizer.step()"
   ]
  },
  {
   "cell_type": "code",
   "execution_count": 23,
   "metadata": {},
   "outputs": [
    {
     "data": {
      "text/plain": [
       "Data(edge_index=[2, 58086], edge_type=[58086], test_idx=[36], test_y=[36], train_idx=[140], train_y=[140], x=[8285, 10], y=[8285, 1])"
      ]
     },
     "execution_count": 23,
     "metadata": {},
     "output_type": "execute_result"
    }
   ],
   "source": [
    "data"
   ]
  },
  {
   "cell_type": "code",
   "execution_count": 143,
   "metadata": {},
   "outputs": [
    {
     "name": "stderr",
     "output_type": "stream",
     "text": [
      "100it [00:45,  2.21it/s]"
     ]
    },
    {
     "name": "stdout",
     "output_type": "stream",
     "text": [
      "r2:  0.7881324264282348\n",
      "weighted r2:  0.9998611406795596\n",
      "Explanations include 10 node features and 12 neighbours for this node            \n",
      "Model prediction is tensor([0.5894], device='cuda:0'), while true target is tensor([0.3526])\n",
      "Base value 0.55955891623962 for class  0.5894270539283752\n",
      "Weights for node features:  0.01501588168048329 and neighbours:  0.014853966151349596\n",
      "Most influential features:  3 and neighbours 3\n",
      "Most influential features:  [(2, 0.008108049654765637), (5, 0.0062031117058722884), (7, 0.0059023007061114185)]\n",
      "Most influential neighbours:  [(2714, 0.023019206637400202), (1510, -0.0038355778879122226), (7181, 0.0036882094382235664)]\n",
      "Time:  45.85211133956909\n"
     ]
    },
    {
     "name": "stderr",
     "output_type": "stream",
     "text": [
      "\n"
     ]
    }
   ],
   "source": [
    "# e = exp.GraphSVX(data.cpu(), model, gpu=True)\n",
    "# shap_values_10 = e.explain(node_indexes=[0], info=False, num_samples=10, multiclass=False, args_feat='All', target_type='reg')\n",
    "# e = exp.GraphSVX(data.cpu(), model, gpu=True)\n",
    "# shap_values_100 = e.explain(node_indexes=[0], info=False, num_samples=100, multiclass=False, args_feat='All', target_type='reg')\n",
    "e = exp.GraphSVX(data.cpu(), model, gpu=True)\n",
    "shap_values_100 = e.explain(node_indexes=[2], info=True, num_samples=100, multiclass=False, args_feat='All', target_type='reg')\n",
    "#e = exp.GraphSVX(data.cpu(), model, gpu=True)\n",
    "#shap_values_3000 = e.explain(node_indexes=[0], info=False, num_samples=3000, multiclass=False, args_feat='All', target_type='reg')"
   ]
  },
  {
   "cell_type": "code",
   "execution_count": 144,
   "metadata": {},
   "outputs": [
    {
     "name": "stdout",
     "output_type": "stream",
     "text": [
      "[0.58942876]\n"
     ]
    },
    {
     "data": {
      "image/png": "[encoded data removed]",
      "text/plain": [
       "<Figure size 432x288 with 1 Axes>"
      ]
     },
     "metadata": {
      "needs_background": "light"
     },
     "output_type": "display_data"
    }
   ],
   "source": [
    "plt.plot(shap_values_100[0])\n",
    "print(shap_values_100[0].sum()+e.base_values)"
   ]
  }
 ],
 "metadata": {
  "interpreter": {
   "hash": "9d35769ed5479ba0809c86af6d0a3dd162cda409db2ab88eb6109f89c0ab635a"
  },
  "kernelspec": {
   "display_name": "Python 3.7.9 ('if_group')",
   "language": "python",
   "name": "python3"
  },
  "language_info": {
   "codemirror_mode": {
    "name": "ipython",
    "version": 3
   },
   "file_extension": ".py",
   "mimetype": "text/x-python",
   "name": "python",
   "nbconvert_exporter": "python",
   "pygments_lexer": "ipython3",
   "version": "3.7.9"
  },
  "orig_nbformat": 4
 },
 "nbformat": 4,
 "nbformat_minor": 2
}
